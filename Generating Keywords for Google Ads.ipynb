{
 "cells": [
  {
   "cell_type": "markdown",
   "id": "01b81003",
   "metadata": {},
   "source": [
    "# Generating Keywords for Google Ads"
   ]
  },
  {
   "cell_type": "markdown",
   "id": "08298c54",
   "metadata": {},
   "source": [
    "## Project Description & Context\n",
    "\n",
    "Automatically generate keywords for a search engine marketing campaign using Python.\n",
    "\n",
    "You work for a digital marketing agency, which is approached by a massive online retailer of furniture. You are tasked with creating a prototype set of keywords for search campaigns for their sofas section. \n",
    "\n",
    "The most important task in structuring a search engine marketing account is mapping the right keywords to the right ads and making sure they send users to the right landing pages. Having figured that out is a big part of the account setup and makes the life of the account manager much easier.\n",
    "\n",
    "##  1. The brief\n",
    "\n",
    "Imagine working for a digital marketing agency, and the agency is approached by a massive online retailer of furniture. They want to test our skills at creating large campaigns for all of their website. We are tasked with creating a prototype set of keywords for search campaigns for their sofas section. The client says that they want us to generate keywords for the following products:\n",
    "\n",
    "- sofas\n",
    "- convertible sofas\n",
    "- love seats\n",
    "- recliners\n",
    "- sofa beds\n",
    "\n",
    "*The brief*: The client is generally a low-cost retailer, offering many promotions and discounts. We will need to focus on such keywords. We will also need to move away from luxury keywords and topics, as we are targeting price-sensitive customers. Because we are going to be tight on budget, it would be good to focus on a tightly targeted set of keywords and make sure they are all set to exact and phrase match.\n",
    "\n",
    "Based on the brief above we will first need to generate a list of words, that together with the products given above would make for good keywords. Here are some examples:\n",
    "\n",
    "- Products: sofas, recliners\n",
    "- Words: buy, prices\n",
    "\n",
    "The resulting keywords: 'buy sofas', 'sofas buy', 'buy recliners', 'recliners buy', 'prices sofas', 'sofas prices', 'prices recliners', 'recliners prices'.\n",
    "\n",
    "As a final result, we want to have a DataFrame that looks like this:\n",
    "\n",
    "| Campaign | Ad Group | Keyword\tCriterion | Type |\n",
    "| --- | --- | --- | --- |\n",
    "| Campaign1 | AdGroup_1 | keyword 1a | Exact |\n",
    "| Campaign1 | AdGroup_1 | keyword 1a | Phrase |\n",
    "| Campaign1 | AdGroup_1 | keyword 1b | Exact |\n",
    "| Campaign1 | AdGroup_1 | keyword 1b | Phrase |\n",
    "| Campaign1 | AdGroup_1 | keyword 2a | Exact |\n",
    "| Campaign1 | AdGroup_1 | keyword 2a | Phrase |\n",
    "\n",
    "The first step is to come up with a list of words that users might use to express their desire in buying low-cost sofas."
   ]
  },
  {
   "cell_type": "code",
   "execution_count": 1,
   "id": "0df10c1e",
   "metadata": {},
   "outputs": [
    {
     "name": "stdout",
     "output_type": "stream",
     "text": [
      "['buy', 'price', 'discount', 'promotion']\n"
     ]
    }
   ],
   "source": [
    "# List of words to pair with products\n",
    "words = ['buy','price','discount','promotion']\n",
    "\n",
    "# Print list of words\n",
    "print(words)"
   ]
  },
  {
   "cell_type": "markdown",
   "id": "eca72d1a",
   "metadata": {},
   "source": [
    "## 2. Combine the words with the product names\n",
    "\n",
    "Imagining all the possible combinations of keywords can be stressful! But not for us, because we are keyword ninjas! We know how to translate campaign briefs into Python data structures and can imagine the resulting DataFrames that we need to create.\n",
    "\n",
    "Now that we have brainstormed the words that work well with the brief that we received, it is now time to combine them with the product names to generate meaningful search keywords. We want to combine every word with every product once before, and once after, as seen in the example above.\n",
    "\n",
    "As a quick reminder, for the product 'recliners' and the words 'buy' and 'price' for example, we would want to generate the following combinations:\n",
    "\n",
    "buy recliners\n",
    "\n",
    "recliners buy\n",
    "\n",
    "price recliners\n",
    "\n",
    "recliners price\n",
    "…\n",
    "\n",
    "and so on for all the words and products that we have."
   ]
  },
  {
   "cell_type": "code",
   "execution_count": 2,
   "id": "cd24c002",
   "metadata": {},
   "outputs": [
    {
     "name": "stdout",
     "output_type": "stream",
     "text": [
      "[['sofas', 'sofas buy'],\n",
      " ['sofas', 'sofas buy'],\n",
      " ['sofas', 'sofas price'],\n",
      " ['sofas', 'sofas price'],\n",
      " ['sofas', 'sofas discount'],\n",
      " ['sofas', 'sofas discount'],\n",
      " ['sofas', 'sofas promotion'],\n",
      " ['sofas', 'sofas promotion'],\n",
      " ['convertible sofas', 'convertible sofas buy'],\n",
      " ['convertible sofas', 'convertible sofas buy'],\n",
      " ['convertible sofas', 'convertible sofas price'],\n",
      " ['convertible sofas', 'convertible sofas price'],\n",
      " ['convertible sofas', 'convertible sofas discount'],\n",
      " ['convertible sofas', 'convertible sofas discount'],\n",
      " ['convertible sofas', 'convertible sofas promotion'],\n",
      " ['convertible sofas', 'convertible sofas promotion'],\n",
      " ['love seats', 'love seats buy'],\n",
      " ['love seats', 'love seats buy'],\n",
      " ['love seats', 'love seats price'],\n",
      " ['love seats', 'love seats price'],\n",
      " ['love seats', 'love seats discount'],\n",
      " ['love seats', 'love seats discount'],\n",
      " ['love seats', 'love seats promotion'],\n",
      " ['love seats', 'love seats promotion'],\n",
      " ['recliners', 'recliners buy'],\n",
      " ['recliners', 'recliners buy'],\n",
      " ['recliners', 'recliners price'],\n",
      " ['recliners', 'recliners price'],\n",
      " ['recliners', 'recliners discount'],\n",
      " ['recliners', 'recliners discount'],\n",
      " ['recliners', 'recliners promotion'],\n",
      " ['recliners', 'recliners promotion'],\n",
      " ['sofa beds', 'sofa beds buy'],\n",
      " ['sofa beds', 'sofa beds buy'],\n",
      " ['sofa beds', 'sofa beds price'],\n",
      " ['sofa beds', 'sofa beds price'],\n",
      " ['sofa beds', 'sofa beds discount'],\n",
      " ['sofa beds', 'sofa beds discount'],\n",
      " ['sofa beds', 'sofa beds promotion'],\n",
      " ['sofa beds', 'sofa beds promotion']]\n"
     ]
    }
   ],
   "source": [
    "products = ['sofas', 'convertible sofas', 'love seats', 'recliners', 'sofa beds']\n",
    "\n",
    "# Create an empty list\n",
    "keywords_list = []\n",
    "\n",
    "# Loop through products\n",
    "for product in products:\n",
    "    # Loop through words\n",
    "    for word in words:\n",
    "        # Append combinations\n",
    "        keywords_list.append([product, product + ' ' + word])\n",
    "        keywords_list.append([product, product + ' ' + word])\n",
    "        \n",
    "# Inspect keyword list\n",
    "from pprint import pprint\n",
    "pprint(keywords_list)"
   ]
  },
  {
   "cell_type": "markdown",
   "id": "b0dd173a",
   "metadata": {},
   "source": [
    "## 3. Convert the list of lists into a DataFrame\n",
    "Now we want to convert this list of lists into a DataFrame so we can easily manipulate it and manage the final output"
   ]
  },
  {
   "cell_type": "code",
   "execution_count": 3,
   "id": "5119d467",
   "metadata": {},
   "outputs": [
    {
     "name": "stdout",
     "output_type": "stream",
     "text": [
      "       0               1\n",
      "0  sofas       sofas buy\n",
      "1  sofas       sofas buy\n",
      "2  sofas     sofas price\n",
      "3  sofas     sofas price\n",
      "4  sofas  sofas discount\n"
     ]
    }
   ],
   "source": [
    "# Load library\n",
    "import pandas as pd\n",
    "\n",
    "# Create a DataFrame from list\n",
    "keywords_df = pd.DataFrame.from_records(keywords_list)\n",
    "\n",
    "# Print the keywords DataFrame to explore it\n",
    "print(keywords_df.head())"
   ]
  },
  {
   "cell_type": "markdown",
   "id": "00898e32",
   "metadata": {},
   "source": [
    "## 4. Rename the columns of the DataFrame\n",
    "\n",
    "Before we can upload this table of keywords, we will need to give the columns meaningful names. If we inspect the DataFrame we just created above, we can see that the columns are currently named 0 and 1. Ad Group (example: \"sofas\") and Keyword (example: \"sofas buy\") are much more appropriate names."
   ]
  },
  {
   "cell_type": "code",
   "execution_count": 6,
   "id": "f41a1569",
   "metadata": {},
   "outputs": [],
   "source": [
    "# Rename the columns of the DataFrame\n",
    "keywords_df = keywords_df.rename(columns={0: 'Ad Group', 1: 'Keyword'})"
   ]
  },
  {
   "cell_type": "markdown",
   "id": "f5e0a46b",
   "metadata": {},
   "source": [
    "## 5. Add a campaign column\n",
    "\n",
    "Now we need to add some additional information to our DataFrame. We need a new column called Campaign for the campaign name. We want campaign names to be descriptive of our group of keywords and products, so let's call this campaign 'SEM_Sofas'."
   ]
  },
  {
   "cell_type": "code",
   "execution_count": 9,
   "id": "6a97e7bc",
   "metadata": {},
   "outputs": [],
   "source": [
    "# Add a campaign column\n",
    "keywords_df['Campaign'] = 'SEM_Sofas'"
   ]
  },
  {
   "cell_type": "markdown",
   "id": "1ebde1cf",
   "metadata": {},
   "source": [
    "## 6. Create the match type column\n",
    "\n",
    "There are different keyword match types. One is exact match, which is for matching the exact term or are close variations of that exact term. Another match type is broad match, which means ads may show on searches that include misspellings, synonyms, related searches, and other relevant variations.\n",
    "\n",
    "Straight from Google's AdWords documentation:\n",
    "\n",
    "\"In general, the broader the match type, the more traffic potential that keyword will have, since your ads may be triggered more often. Conversely, a narrower match type means that your ads may show less often—but when they do, they’re likely to be more related to someone’s search.\"\n",
    "\n",
    "Since the client is tight on budget, we want to make sure all the keywords are in exact match at the beginning."
   ]
  },
  {
   "cell_type": "code",
   "execution_count": 10,
   "id": "9a00f482",
   "metadata": {},
   "outputs": [],
   "source": [
    "# Add a criterion type column\n",
    "keywords_df.insert(0, 'Citerion Type', 'Exact')"
   ]
  },
  {
   "cell_type": "markdown",
   "id": "18b24183",
   "metadata": {},
   "source": [
    "## 7. Duplicate all the keywords into 'phrase' match\n",
    "\n",
    "The great thing about exact match is that it is very specific, and we can control the process very well. The tradeoff, however, is that:\n",
    "\n",
    "The search volume for exact match is lower than other match types\n",
    "We can't possibly think of all the ways in which people search, and so, we are probably missing out on some high-quality keywords.\n",
    "So it's good to use another match called phrase match as a discovery mechanism to allow our ads to be triggered by keywords that include our exact match keywords, together with anything before (or after) them.\n",
    "\n",
    "Later on, when we launch the campaign, we can explore with modified broad match, broad match, and negative match types, for better visibility and control of our campaigns."
   ]
  },
  {
   "cell_type": "code",
   "execution_count": 23,
   "id": "9a629e4d",
   "metadata": {},
   "outputs": [
    {
     "name": "stdout",
     "output_type": "stream",
     "text": [
      "   Citerion Type   Campaign   Ad Group              Keyword Criterion Type\n",
      "0          Exact  SEM_Sofas      sofas            sofas buy            NaN\n",
      "1          Exact  SEM_Sofas      sofas            sofas buy            NaN\n",
      "2          Exact  SEM_Sofas      sofas          sofas price            NaN\n",
      "3          Exact  SEM_Sofas      sofas          sofas price            NaN\n",
      "4          Exact  SEM_Sofas      sofas       sofas discount            NaN\n",
      "..           ...        ...        ...                  ...            ...\n",
      "35         Exact  SEM_Sofas  sofa beds      sofa beds price         Phrase\n",
      "36         Exact  SEM_Sofas  sofa beds   sofa beds discount         Phrase\n",
      "37         Exact  SEM_Sofas  sofa beds   sofa beds discount         Phrase\n",
      "38         Exact  SEM_Sofas  sofa beds  sofa beds promotion         Phrase\n",
      "39         Exact  SEM_Sofas  sofa beds  sofa beds promotion         Phrase\n",
      "\n",
      "[80 rows x 5 columns]\n"
     ]
    }
   ],
   "source": [
    "# Make a copy of the keywords DataFrame\n",
    "keywords_phrase = keywords_df.copy()\n",
    "\n",
    "# Change criterion type match to phrase\n",
    "keywords_phrase['Criterion Type'] = 'Phrase'\n",
    "\n",
    "# Append the DataFrames\n",
    "keywords_df_final = keywords_df.append(keywords_phrase)\n",
    "print(keywords_df_final)"
   ]
  },
  {
   "cell_type": "markdown",
   "id": "8b8f5ff9",
   "metadata": {},
   "source": [
    "## 8. Save and summarize!\n",
    "\n",
    "To upload our campaign, we need to save it as a CSV file. Then we will be able to import it to AdWords editor or BingAds editor. There is also the option of pasting the data into the editor if we want, but having easy access to the saved data is great so let's save to a CSV file!\n",
    "\n",
    "Looking at a summary of our campaign structure is good now that we've wrapped up our keyword work. We can do that by grouping by ad group and criterion type and counting by keyword. This summary shows us that we assigned specific keywords to specific ad groups, which are each part of a campaign. In essence, we are telling Google (or Bing, etc.) that we want any of the words in each ad group to trigger one of the ads in the same ad group. Separately, we will have to create another table for ads, which is a task for another day and would look something like this:"
   ]
  },
  {
   "cell_type": "code",
   "execution_count": 28,
   "id": "627b6da2",
   "metadata": {},
   "outputs": [
    {
     "name": "stdout",
     "output_type": "stream",
     "text": [
      "Ad Group           Criterion Type\n",
      "convertible sofas  Phrase            8\n",
      "love seats         Phrase            8\n",
      "recliners          Phrase            8\n",
      "sofa beds          Phrase            8\n",
      "sofas              Phrase            8\n",
      "Name: Keyword, dtype: int64\n"
     ]
    }
   ],
   "source": [
    "# Save the final keywords to a CSV file\n",
    "keywords_df_final.to_csv('keywords.csv', index=False)\n",
    "# View a summary of our campaign work\n",
    "summary = keywords_df_final.groupby(['Ad Group', 'Criterion Type'])['Keyword'].count()\n",
    "print(summary)"
   ]
  },
  {
   "cell_type": "markdown",
   "id": "616e0855",
   "metadata": {},
   "source": [
    "### Result"
   ]
  },
  {
   "cell_type": "code",
   "execution_count": 27,
   "id": "40c59b91",
   "metadata": {},
   "outputs": [
    {
     "data": {
      "text/html": [
       "<div>\n",
       "<style scoped>\n",
       "    .dataframe tbody tr th:only-of-type {\n",
       "        vertical-align: middle;\n",
       "    }\n",
       "\n",
       "    .dataframe tbody tr th {\n",
       "        vertical-align: top;\n",
       "    }\n",
       "\n",
       "    .dataframe thead th {\n",
       "        text-align: right;\n",
       "    }\n",
       "</style>\n",
       "<table border=\"1\" class=\"dataframe\">\n",
       "  <thead>\n",
       "    <tr style=\"text-align: right;\">\n",
       "      <th></th>\n",
       "      <th>Citerion Type</th>\n",
       "      <th>Campaign</th>\n",
       "      <th>Ad Group</th>\n",
       "      <th>Keyword</th>\n",
       "      <th>Criterion Type</th>\n",
       "    </tr>\n",
       "  </thead>\n",
       "  <tbody>\n",
       "    <tr>\n",
       "      <th>0</th>\n",
       "      <td>Exact</td>\n",
       "      <td>SEM_Sofas</td>\n",
       "      <td>sofas</td>\n",
       "      <td>sofas buy</td>\n",
       "      <td>NaN</td>\n",
       "    </tr>\n",
       "    <tr>\n",
       "      <th>1</th>\n",
       "      <td>Exact</td>\n",
       "      <td>SEM_Sofas</td>\n",
       "      <td>sofas</td>\n",
       "      <td>sofas buy</td>\n",
       "      <td>NaN</td>\n",
       "    </tr>\n",
       "    <tr>\n",
       "      <th>2</th>\n",
       "      <td>Exact</td>\n",
       "      <td>SEM_Sofas</td>\n",
       "      <td>sofas</td>\n",
       "      <td>sofas price</td>\n",
       "      <td>NaN</td>\n",
       "    </tr>\n",
       "    <tr>\n",
       "      <th>3</th>\n",
       "      <td>Exact</td>\n",
       "      <td>SEM_Sofas</td>\n",
       "      <td>sofas</td>\n",
       "      <td>sofas price</td>\n",
       "      <td>NaN</td>\n",
       "    </tr>\n",
       "    <tr>\n",
       "      <th>4</th>\n",
       "      <td>Exact</td>\n",
       "      <td>SEM_Sofas</td>\n",
       "      <td>sofas</td>\n",
       "      <td>sofas discount</td>\n",
       "      <td>NaN</td>\n",
       "    </tr>\n",
       "    <tr>\n",
       "      <th>...</th>\n",
       "      <td>...</td>\n",
       "      <td>...</td>\n",
       "      <td>...</td>\n",
       "      <td>...</td>\n",
       "      <td>...</td>\n",
       "    </tr>\n",
       "    <tr>\n",
       "      <th>75</th>\n",
       "      <td>Exact</td>\n",
       "      <td>SEM_Sofas</td>\n",
       "      <td>sofa beds</td>\n",
       "      <td>sofa beds price</td>\n",
       "      <td>Phrase</td>\n",
       "    </tr>\n",
       "    <tr>\n",
       "      <th>76</th>\n",
       "      <td>Exact</td>\n",
       "      <td>SEM_Sofas</td>\n",
       "      <td>sofa beds</td>\n",
       "      <td>sofa beds discount</td>\n",
       "      <td>Phrase</td>\n",
       "    </tr>\n",
       "    <tr>\n",
       "      <th>77</th>\n",
       "      <td>Exact</td>\n",
       "      <td>SEM_Sofas</td>\n",
       "      <td>sofa beds</td>\n",
       "      <td>sofa beds discount</td>\n",
       "      <td>Phrase</td>\n",
       "    </tr>\n",
       "    <tr>\n",
       "      <th>78</th>\n",
       "      <td>Exact</td>\n",
       "      <td>SEM_Sofas</td>\n",
       "      <td>sofa beds</td>\n",
       "      <td>sofa beds promotion</td>\n",
       "      <td>Phrase</td>\n",
       "    </tr>\n",
       "    <tr>\n",
       "      <th>79</th>\n",
       "      <td>Exact</td>\n",
       "      <td>SEM_Sofas</td>\n",
       "      <td>sofa beds</td>\n",
       "      <td>sofa beds promotion</td>\n",
       "      <td>Phrase</td>\n",
       "    </tr>\n",
       "  </tbody>\n",
       "</table>\n",
       "<p>80 rows × 5 columns</p>\n",
       "</div>"
      ],
      "text/plain": [
       "   Citerion Type   Campaign   Ad Group              Keyword Criterion Type\n",
       "0          Exact  SEM_Sofas      sofas            sofas buy            NaN\n",
       "1          Exact  SEM_Sofas      sofas            sofas buy            NaN\n",
       "2          Exact  SEM_Sofas      sofas          sofas price            NaN\n",
       "3          Exact  SEM_Sofas      sofas          sofas price            NaN\n",
       "4          Exact  SEM_Sofas      sofas       sofas discount            NaN\n",
       "..           ...        ...        ...                  ...            ...\n",
       "75         Exact  SEM_Sofas  sofa beds      sofa beds price         Phrase\n",
       "76         Exact  SEM_Sofas  sofa beds   sofa beds discount         Phrase\n",
       "77         Exact  SEM_Sofas  sofa beds   sofa beds discount         Phrase\n",
       "78         Exact  SEM_Sofas  sofa beds  sofa beds promotion         Phrase\n",
       "79         Exact  SEM_Sofas  sofa beds  sofa beds promotion         Phrase\n",
       "\n",
       "[80 rows x 5 columns]"
      ]
     },
     "execution_count": 27,
     "metadata": {},
     "output_type": "execute_result"
    }
   ],
   "source": [
    "pd.read_csv('keywords.csv')"
   ]
  }
 ],
 "metadata": {
  "kernelspec": {
   "display_name": "Python 3",
   "language": "python",
   "name": "python3"
  },
  "language_info": {
   "codemirror_mode": {
    "name": "ipython",
    "version": 3
   },
   "file_extension": ".py",
   "mimetype": "text/x-python",
   "name": "python",
   "nbconvert_exporter": "python",
   "pygments_lexer": "ipython3",
   "version": "3.8.8"
  }
 },
 "nbformat": 4,
 "nbformat_minor": 5
}
